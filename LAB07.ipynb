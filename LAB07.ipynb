{
  "nbformat": 4,
  "nbformat_minor": 0,
  "metadata": {
    "colab": {
      "name": "LAB07.ipynb",
      "provenance": [],
      "private_outputs": true,
      "collapsed_sections": [],
      "mount_file_id": "1rMzS9V7dbnm_p4NA2lQSOIYDd5ZcV_A2",
      "authorship_tag": "ABX9TyPef/W9Lmput2wgsHBYIolF",
      "include_colab_link": true
    },
    "kernelspec": {
      "name": "python3",
      "display_name": "Python 3"
    }
  },
  "cells": [
    {
      "cell_type": "markdown",
      "metadata": {
        "id": "view-in-github",
        "colab_type": "text"
      },
      "source": [
        "<a href=\"https://colab.research.google.com/github/NguenDuyNhat/CS114.K21/blob/master/LAB07.ipynb\" target=\"_parent\"><img src=\"https://colab.research.google.com/assets/colab-badge.svg\" alt=\"Open In Colab\"/></a>"
      ]
    },
    {
      "cell_type": "markdown",
      "metadata": {
        "id": "-yBE0ObGB1Pf",
        "colab_type": "text"
      },
      "source": [
        "\n",
        "**Khởi tạo và chạy Turicreate**\n",
        "\n",
        "\n",
        "\n"
      ]
    },
    {
      "cell_type": "code",
      "metadata": {
        "id": "crlcqU9i_MAH",
        "colab_type": "code",
        "colab": {}
      },
      "source": [
        "!pip install turicreate"
      ],
      "execution_count": null,
      "outputs": []
    },
    {
      "cell_type": "code",
      "metadata": {
        "id": "IphcSlKG_mqM",
        "colab_type": "code",
        "colab": {}
      },
      "source": [
        "import turicreate"
      ],
      "execution_count": null,
      "outputs": []
    },
    {
      "cell_type": "markdown",
      "metadata": {
        "id": "fq_U5rmKB8zV",
        "colab_type": "text"
      },
      "source": [
        "**Tải bộ dữ liệu giá nhà**"
      ]
    },
    {
      "cell_type": "code",
      "metadata": {
        "id": "urMjxBWTAW0k",
        "colab_type": "code",
        "colab": {}
      },
      "source": [
        "cd /content/drive/My Drive"
      ],
      "execution_count": null,
      "outputs": []
    },
    {
      "cell_type": "code",
      "metadata": {
        "id": "l633sXg-Aixw",
        "colab_type": "code",
        "colab": {}
      },
      "source": [
        "sales = turicreate.SFrame('home_data.sframe/')"
      ],
      "execution_count": null,
      "outputs": []
    },
    {
      "cell_type": "code",
      "metadata": {
        "id": "x4Vl2StQAldY",
        "colab_type": "code",
        "colab": {}
      },
      "source": [
        "sales"
      ],
      "execution_count": null,
      "outputs": []
    },
    {
      "cell_type": "markdown",
      "metadata": {
        "id": "wGlhcQ4MCB4S",
        "colab_type": "text"
      },
      "source": [
        "**Khám phá, làm rõ về dữ liệu**"
      ]
    },
    {
      "cell_type": "code",
      "metadata": {
        "id": "I01wiY1lAo35",
        "colab_type": "code",
        "colab": {}
      },
      "source": [
        "sales.show()"
      ],
      "execution_count": null,
      "outputs": []
    },
    {
      "cell_type": "code",
      "metadata": {
        "id": "4DXcYeFyAuJq",
        "colab_type": "code",
        "colab": {}
      },
      "source": [
        "turicreate.show(sales[1:5000]['sqft_living'],sales[1:5000]['price'])"
      ],
      "execution_count": null,
      "outputs": []
    },
    {
      "cell_type": "markdown",
      "metadata": {
        "id": "YjfW0FMtCKkv",
        "colab_type": "text"
      },
      "source": [
        "**Mô hình hồi quy tuyến tính đơn giản dự đoán giá nhà từ diện tích**"
      ]
    },
    {
      "cell_type": "code",
      "metadata": {
        "id": "CFBJIUQ4AyOe",
        "colab_type": "code",
        "colab": {}
      },
      "source": [
        "training_set, test_set = sales.random_split(.8,seed=0)"
      ],
      "execution_count": null,
      "outputs": []
    },
    {
      "cell_type": "markdown",
      "metadata": {
        "id": "yk24AwwLCR2-",
        "colab_type": "text"
      },
      "source": [
        "**Huyến luyện mô hình đơn giản**"
      ]
    },
    {
      "cell_type": "code",
      "metadata": {
        "id": "WsTkdMtgA3XU",
        "colab_type": "code",
        "colab": {}
      },
      "source": [
        "sqft_model = turicreate.linear_regression.create(training_set,target='price',features=['sqft_living'])"
      ],
      "execution_count": null,
      "outputs": []
    },
    {
      "cell_type": "markdown",
      "metadata": {
        "id": "SlFMJq3RCalh",
        "colab_type": "text"
      },
      "source": [
        "**Đánh giá về kết quả của mô hình hồi quy tuyến tính đơn giản**"
      ]
    },
    {
      "cell_type": "code",
      "metadata": {
        "id": "s7gMXG57A6lh",
        "colab_type": "code",
        "colab": {}
      },
      "source": [
        "print (test_set['price'].mean())"
      ],
      "execution_count": null,
      "outputs": []
    },
    {
      "cell_type": "code",
      "metadata": {
        "id": "LWRpWDaLA97M",
        "colab_type": "code",
        "colab": {}
      },
      "source": [
        "print (sqft_model.evaluate(test_set))"
      ],
      "execution_count": null,
      "outputs": []
    },
    {
      "cell_type": "markdown",
      "metadata": {
        "id": "TYlHlzvvCgDP",
        "colab_type": "text"
      },
      "source": [
        "**Phân tích sâu vào kết quả của mô hình**"
      ]
    },
    {
      "cell_type": "code",
      "metadata": {
        "id": "4KOiGcgfA_9l",
        "colab_type": "code",
        "colab": {}
      },
      "source": [
        "sqft_model.coefficients"
      ],
      "execution_count": null,
      "outputs": []
    },
    {
      "cell_type": "code",
      "metadata": {
        "id": "igRR9R59BDiQ",
        "colab_type": "code",
        "colab": {}
      },
      "source": [
        "import matplotlib.pyplot as plt\n",
        "%matplotlib inline\n",
        "plt.plot(test_set['sqft_living'],test_set['price'],'.',\n",
        "        test_set['sqft_living'],sqft_model.predict(test_set),'-')"
      ],
      "execution_count": null,
      "outputs": []
    },
    {
      "cell_type": "markdown",
      "metadata": {
        "id": "bRZMNYPBCmH_",
        "colab_type": "text"
      },
      "source": [
        "**Mở rộng thêm nhiều features cho bộ dữ liệu**"
      ]
    },
    {
      "cell_type": "code",
      "metadata": {
        "id": "95fTRicxBFoW",
        "colab_type": "code",
        "colab": {}
      },
      "source": [
        "my_features = ['bedrooms','bathrooms','sqft_living','sqft_lot','floors','zipcode']"
      ],
      "execution_count": null,
      "outputs": []
    },
    {
      "cell_type": "code",
      "metadata": {
        "id": "91ovQAs3BIX7",
        "colab_type": "code",
        "colab": {}
      },
      "source": [
        "sales[my_features].show()"
      ],
      "execution_count": null,
      "outputs": []
    },
    {
      "cell_type": "code",
      "metadata": {
        "id": "OIfuiMJ-BKeh",
        "colab_type": "code",
        "colab": {}
      },
      "source": [
        "turicreate.show(sales['zipcode'],sales['price'])"
      ],
      "execution_count": null,
      "outputs": []
    },
    {
      "cell_type": "markdown",
      "metadata": {
        "id": "wN7GadmUCxRk",
        "colab_type": "text"
      },
      "source": [
        "**Xay dựng mô hình cho bộ dữ liệu đã thêm các features mới**"
      ]
    },
    {
      "cell_type": "code",
      "metadata": {
        "id": "Hl6AsNw5BOCH",
        "colab_type": "code",
        "colab": {}
      },
      "source": [
        "my_features_model = turicreate.linear_regression.create(training_set,target='price',features=my_features)"
      ],
      "execution_count": null,
      "outputs": []
    },
    {
      "cell_type": "markdown",
      "metadata": {
        "id": "OzotQEtGC4rk",
        "colab_type": "text"
      },
      "source": [
        "\n",
        "**So sánh kết quả giữa mô hình mới và mô hình đơn giản**"
      ]
    },
    {
      "cell_type": "code",
      "metadata": {
        "id": "jgj5s7L3BRnz",
        "colab_type": "code",
        "colab": {}
      },
      "source": [
        "print (my_features)"
      ],
      "execution_count": null,
      "outputs": []
    },
    {
      "cell_type": "code",
      "metadata": {
        "id": "5vlC_B_4BU6d",
        "colab_type": "code",
        "colab": {}
      },
      "source": [
        "print (sqft_model.evaluate(test_set))\n",
        "print (my_features_model.evaluate(test_set))"
      ],
      "execution_count": null,
      "outputs": []
    },
    {
      "cell_type": "markdown",
      "metadata": {
        "id": "_AVIsu6_C-y7",
        "colab_type": "text"
      },
      "source": [
        "**Sử dụng mô hình để tiến hành dự đoán**"
      ]
    },
    {
      "cell_type": "code",
      "metadata": {
        "id": "g0Z1ui1fBXZE",
        "colab_type": "code",
        "colab": {}
      },
      "source": [
        "house1 = sales[sales['id']=='5309101200']"
      ],
      "execution_count": null,
      "outputs": []
    },
    {
      "cell_type": "code",
      "metadata": {
        "id": "SGls77mmBcpK",
        "colab_type": "code",
        "colab": {}
      },
      "source": [
        "house1"
      ],
      "execution_count": null,
      "outputs": []
    },
    {
      "cell_type": "code",
      "metadata": {
        "id": "De6pfRqLBh4e",
        "colab_type": "code",
        "colab": {}
      },
      "source": [
        "print (house1['price'])"
      ],
      "execution_count": null,
      "outputs": []
    },
    {
      "cell_type": "code",
      "metadata": {
        "id": "UwGt8xh0BlZj",
        "colab_type": "code",
        "colab": {}
      },
      "source": [
        "print (sqft_model.predict(house1))"
      ],
      "execution_count": null,
      "outputs": []
    },
    {
      "cell_type": "code",
      "metadata": {
        "id": "yMg8s5_-Bnsy",
        "colab_type": "code",
        "colab": {}
      },
      "source": [
        "print (my_features_model.predict(house1))"
      ],
      "execution_count": null,
      "outputs": []
    },
    {
      "cell_type": "code",
      "metadata": {
        "id": "3LddeScJBp8E",
        "colab_type": "code",
        "colab": {}
      },
      "source": [
        ""
      ],
      "execution_count": null,
      "outputs": []
    }
  ]
}