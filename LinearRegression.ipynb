{
  "nbformat": 4,
  "nbformat_minor": 0,
  "metadata": {
    "colab": {
      "name": "LinearRegression.ipynb",
      "provenance": [],
      "mount_file_id": "1T1AbqAzBMht5mBJkzac1k7iFHIk7sqE-",
      "authorship_tag": "ABX9TyOPnuG63aQvnAKUcdj6c/YG",
      "include_colab_link": true
    },
    "kernelspec": {
      "name": "python3",
      "display_name": "Python 3"
    }
  },
  "cells": [
    {
      "cell_type": "markdown",
      "metadata": {
        "id": "view-in-github",
        "colab_type": "text"
      },
      "source": [
        "<a href=\"https://colab.research.google.com/github/NguenDuyNhat/CS114.K21/blob/master/LinearRegression.ipynb\" target=\"_parent\"><img src=\"https://colab.research.google.com/assets/colab-badge.svg\" alt=\"Open In Colab\"/></a>"
      ]
    },
    {
      "cell_type": "markdown",
      "metadata": {
        "id": "YNEheV8Ii5lF",
        "colab_type": "text"
      },
      "source": [
        "https://datatofish.com/convert-text-file-to-csv-using-python-tool-included/\n",
        "\n",
        "# Link chuyển từ file txt sang file csv"
      ]
    },
    {
      "cell_type": "code",
      "metadata": {
        "id": "hhz6YNhpewoL",
        "colab_type": "code",
        "colab": {}
      },
      "source": [
        "import pandas as pd\n",
        "data = pd.read_csv ('/content/drive/My Drive/data.txt', header = None)\n",
        "data.columns = ['phuctap','thoigian']\n",
        "data.to_csv ('/content/drive\\File name.csv', index=None)"
      ],
      "execution_count": 0,
      "outputs": []
    },
    {
      "cell_type": "markdown",
      "metadata": {
        "id": "1uYFf2izmxeB",
        "colab_type": "text"
      },
      "source": [
        "# Chuyển Data về dạng DataFrame"
      ]
    },
    {
      "cell_type": "code",
      "metadata": {
        "id": "vXG0LlibfmIv",
        "colab_type": "code",
        "colab": {
          "base_uri": "https://localhost:8080/",
          "height": 419
        },
        "outputId": "a3bc2bd1-afce-437f-a848-7183b9158fb1"
      },
      "source": [
        "data=pd.DataFrame(data)\n",
        "data"
      ],
      "execution_count": 22,
      "outputs": [
        {
          "output_type": "execute_result",
          "data": {
            "text/html": [
              "<div>\n",
              "<style scoped>\n",
              "    .dataframe tbody tr th:only-of-type {\n",
              "        vertical-align: middle;\n",
              "    }\n",
              "\n",
              "    .dataframe tbody tr th {\n",
              "        vertical-align: top;\n",
              "    }\n",
              "\n",
              "    .dataframe thead th {\n",
              "        text-align: right;\n",
              "    }\n",
              "</style>\n",
              "<table border=\"1\" class=\"dataframe\">\n",
              "  <thead>\n",
              "    <tr style=\"text-align: right;\">\n",
              "      <th></th>\n",
              "      <th>phuctap</th>\n",
              "      <th>thoigian</th>\n",
              "    </tr>\n",
              "  </thead>\n",
              "  <tbody>\n",
              "    <tr>\n",
              "      <th>0</th>\n",
              "      <td>4032139</td>\n",
              "      <td>1.200580</td>\n",
              "    </tr>\n",
              "    <tr>\n",
              "      <th>1</th>\n",
              "      <td>2055486</td>\n",
              "      <td>0.509774</td>\n",
              "    </tr>\n",
              "    <tr>\n",
              "      <th>2</th>\n",
              "      <td>5626651</td>\n",
              "      <td>1.476080</td>\n",
              "    </tr>\n",
              "    <tr>\n",
              "      <th>3</th>\n",
              "      <td>42065</td>\n",
              "      <td>0.007651</td>\n",
              "    </tr>\n",
              "    <tr>\n",
              "      <th>4</th>\n",
              "      <td>6297788</td>\n",
              "      <td>1.661560</td>\n",
              "    </tr>\n",
              "    <tr>\n",
              "      <th>...</th>\n",
              "      <td>...</td>\n",
              "      <td>...</td>\n",
              "    </tr>\n",
              "    <tr>\n",
              "      <th>5206</th>\n",
              "      <td>6600098</td>\n",
              "      <td>1.804520</td>\n",
              "    </tr>\n",
              "    <tr>\n",
              "      <th>5207</th>\n",
              "      <td>5339132</td>\n",
              "      <td>1.450310</td>\n",
              "    </tr>\n",
              "    <tr>\n",
              "      <th>5208</th>\n",
              "      <td>4794647</td>\n",
              "      <td>1.293070</td>\n",
              "    </tr>\n",
              "    <tr>\n",
              "      <th>5209</th>\n",
              "      <td>4440131</td>\n",
              "      <td>1.196530</td>\n",
              "    </tr>\n",
              "    <tr>\n",
              "      <th>5210</th>\n",
              "      <td>2033708</td>\n",
              "      <td>0.517288</td>\n",
              "    </tr>\n",
              "  </tbody>\n",
              "</table>\n",
              "<p>5211 rows × 2 columns</p>\n",
              "</div>"
            ],
            "text/plain": [
              "      phuctap  thoigian\n",
              "0     4032139  1.200580\n",
              "1     2055486  0.509774\n",
              "2     5626651  1.476080\n",
              "3       42065  0.007651\n",
              "4     6297788  1.661560\n",
              "...       ...       ...\n",
              "5206  6600098  1.804520\n",
              "5207  5339132  1.450310\n",
              "5208  4794647  1.293070\n",
              "5209  4440131  1.196530\n",
              "5210  2033708  0.517288\n",
              "\n",
              "[5211 rows x 2 columns]"
            ]
          },
          "metadata": {
            "tags": []
          },
          "execution_count": 22
        }
      ]
    },
    {
      "cell_type": "markdown",
      "metadata": {
        "id": "VTKWHsaLjQxU",
        "colab_type": "text"
      },
      "source": [
        "# Khai báo thư viện numpy và matplotlib.pyplot"
      ]
    },
    {
      "cell_type": "code",
      "metadata": {
        "id": "4KHL4jj6f1Vu",
        "colab_type": "code",
        "colab": {}
      },
      "source": [
        "import numpy as np\n",
        "import matplotlib.pyplot as plt"
      ],
      "execution_count": 0,
      "outputs": []
    },
    {
      "cell_type": "markdown",
      "metadata": {
        "id": "VcaULWrwjeKJ",
        "colab_type": "text"
      },
      "source": [
        "# phuctap: là Feature Engineer\n"
      ]
    },
    {
      "cell_type": "code",
      "metadata": {
        "id": "5kGPzGI5gA0S",
        "colab_type": "code",
        "colab": {
          "base_uri": "https://localhost:8080/",
          "height": 34
        },
        "outputId": "da8cb890-7b75-4f61-b7fc-2492bf2d4a2d"
      },
      "source": [
        "X=data['phuctap']\n",
        "X.shape"
      ],
      "execution_count": 24,
      "outputs": [
        {
          "output_type": "execute_result",
          "data": {
            "text/plain": [
              "(5211,)"
            ]
          },
          "metadata": {
            "tags": []
          },
          "execution_count": 24
        }
      ]
    },
    {
      "cell_type": "code",
      "metadata": {
        "id": "IfBRW7QZgJMm",
        "colab_type": "code",
        "colab": {
          "base_uri": "https://localhost:8080/",
          "height": 34
        },
        "outputId": "0b978ff8-d868-44d8-eedc-6f4a4aa87e5c"
      },
      "source": [
        "Y=data['thoigian']\n",
        "Y.shape"
      ],
      "execution_count": 25,
      "outputs": [
        {
          "output_type": "execute_result",
          "data": {
            "text/plain": [
              "(5211,)"
            ]
          },
          "metadata": {
            "tags": []
          },
          "execution_count": 25
        }
      ]
    },
    {
      "cell_type": "markdown",
      "metadata": {
        "id": "s3WvIbjJl_di",
        "colab_type": "text"
      },
      "source": [
        "# Vẽ dữ liệu "
      ]
    },
    {
      "cell_type": "code",
      "metadata": {
        "id": "PuaOYzK5gT0Z",
        "colab_type": "code",
        "colab": {
          "base_uri": "https://localhost:8080/",
          "height": 278
        },
        "outputId": "2b135a58-f27a-443d-b418-d8f330c858ae"
      },
      "source": [
        "plt.plot(X, Y, 'ro')\n",
        "plt.show()"
      ],
      "execution_count": 26,
      "outputs": [
        {
          "output_type": "display_data",
          "data": {
            "image/png": "[encoded data removed]",
            "text/plain": [
              "<Figure size 432x288 with 1 Axes>"
            ]
          },
          "metadata": {
            "tags": [],
            "needs_background": "light"
          }
        }
      ]
    },
    {
      "cell_type": "markdown",
      "metadata": {
        "id": "Nfy2xWlklGP_",
        "colab_type": "text"
      },
      "source": [
        "# Chia data thành 2 phần: 80% data để train, 20% để test"
      ]
    },
    {
      "cell_type": "code",
      "metadata": {
        "id": "LaLVZs_Cgbxy",
        "colab_type": "code",
        "colab": {}
      },
      "source": [
        "from sklearn.model_selection import train_test_split \n",
        "Xtrain, Xtest, Ytrain, Ytest = train_test_split(X, Y,test_size=0.2)"
      ],
      "execution_count": 0,
      "outputs": []
    },
    {
      "cell_type": "markdown",
      "metadata": {
        "id": "FBebMIX9kGeM",
        "colab_type": "text"
      },
      "source": [
        "# Sử dụng Linear Regression"
      ]
    },
    {
      "cell_type": "code",
      "metadata": {
        "id": "tZ4_--STgi7T",
        "colab_type": "code",
        "colab": {}
      },
      "source": [
        "from sklearn.linear_model import LinearRegression"
      ],
      "execution_count": 0,
      "outputs": []
    },
    {
      "cell_type": "code",
      "metadata": {
        "id": "QX_50fafglqh",
        "colab_type": "code",
        "colab": {}
      },
      "source": [
        "model= LinearRegression()"
      ],
      "execution_count": 0,
      "outputs": []
    },
    {
      "cell_type": "markdown",
      "metadata": {
        "id": "gD7qtfUKkgkh",
        "colab_type": "text"
      },
      "source": [
        "# Chuyển Xtest, Ytest, Xtrain, Ytrain"
      ]
    },
    {
      "cell_type": "code",
      "metadata": {
        "id": "PfLZA-LQg7wy",
        "colab_type": "code",
        "colab": {}
      },
      "source": [
        "Xtest=pd.DataFrame(Xtest)\n",
        "Xtrain=pd.DataFrame(Xtrain)\n",
        "Ytest=pd.DataFrame(Ytest)\n",
        "Ytrain=pd.DataFrame(Ytrain)"
      ],
      "execution_count": 0,
      "outputs": []
    },
    {
      "cell_type": "markdown",
      "metadata": {
        "id": "bp9TDRV5k1yX",
        "colab_type": "text"
      },
      "source": [
        "# Lấy Xtrain, Ytrain để model học suy ra công thức"
      ]
    },
    {
      "cell_type": "code",
      "metadata": {
        "id": "dVr8XsXQg3yo",
        "colab_type": "code",
        "colab": {
          "base_uri": "https://localhost:8080/",
          "height": 34
        },
        "outputId": "68340855-9413-485e-90ca-f334bf93aba8"
      },
      "source": [
        "model.fit(Xtrain,Ytrain)"
      ],
      "execution_count": 32,
      "outputs": [
        {
          "output_type": "execute_result",
          "data": {
            "text/plain": [
              "LinearRegression(copy_X=True, fit_intercept=True, n_jobs=None, normalize=False)"
            ]
          },
          "metadata": {
            "tags": []
          },
          "execution_count": 32
        }
      ]
    },
    {
      "cell_type": "markdown",
      "metadata": {
        "id": "BDqA-VlmlXrK",
        "colab_type": "text"
      },
      "source": [
        "Lấy model dự đoán "
      ]
    },
    {
      "cell_type": "code",
      "metadata": {
        "id": "VJgQSqrZhW9N",
        "colab_type": "code",
        "colab": {}
      },
      "source": [
        "Ypre=model.predict(Xtest)"
      ],
      "execution_count": 0,
      "outputs": []
    },
    {
      "cell_type": "markdown",
      "metadata": {
        "id": "axKAsJPRlfcJ",
        "colab_type": "text"
      },
      "source": [
        "# Tính MSE(mean_squared_error)"
      ]
    },
    {
      "cell_type": "code",
      "metadata": {
        "id": "PrEIKjQfho2n",
        "colab_type": "code",
        "colab": {
          "base_uri": "https://localhost:8080/",
          "height": 34
        },
        "outputId": "b1e55075-957d-4b25-8c67-1f519f97ed2d"
      },
      "source": [
        "from sklearn.metrics import mean_squared_error\n",
        "mean_squared_error(Ytest,Ypre)"
      ],
      "execution_count": 35,
      "outputs": [
        {
          "output_type": "execute_result",
          "data": {
            "text/plain": [
              "0.001462711609372852"
            ]
          },
          "metadata": {
            "tags": []
          },
          "execution_count": 35
        }
      ]
    },
    {
      "cell_type": "markdown",
      "metadata": {
        "id": "sP4eLLtTmPut",
        "colab_type": "text"
      },
      "source": [
        "# Vẽ các điểm dữ liệu, moedel dự đóa được"
      ]
    },
    {
      "cell_type": "code",
      "metadata": {
        "id": "RM3TSjBbhtZw",
        "colab_type": "code",
        "colab": {
          "base_uri": "https://localhost:8080/",
          "height": 278
        },
        "outputId": "086e1d9e-89c3-4b10-d799-16bdd02e3db4"
      },
      "source": [
        "plt.scatter(Xtest, Ytest)\n",
        "plt.plot(Xtest, Ypre, 'r')\n",
        "plt.show()"
      ],
      "execution_count": 36,
      "outputs": [
        {
          "output_type": "display_data",
          "data": {
            "image/png": "[encoded data removed]",
            "text/plain": [
              "<Figure size 432x288 with 1 Axes>"
            ]
          },
          "metadata": {
            "tags": [],
            "needs_background": "light"
          }
        }
      ]
    },
    {
      "cell_type": "markdown",
      "metadata": {
        "id": "sm4q1Rzlmdft",
        "colab_type": "text"
      },
      "source": [
        "# Nhập vào giá trị để dụ đoán(nếu giá trị âm thì trả về 0, nếu dương thì in ra giá trị dự đoán, do thời gian không thể âm)"
      ]
    },
    {
      "cell_type": "code",
      "metadata": {
        "id": "Kf-mb0bzhwmA",
        "colab_type": "code",
        "colab": {
          "base_uri": "https://localhost:8080/",
          "height": 51
        },
        "outputId": "cd5dcce1-1fc3-435f-8cc3-e4c75d749cc7"
      },
      "source": [
        "pre=int(input())\n",
        "pre_model=model.predict([[pre]])\n",
        "if(pre_model<0):\n",
        "  print(\"Giá trị dự đoán:\",0)\n",
        "else:\n",
        "  print(\"Giá trị dự đoán:\",pre_model)"
      ],
      "execution_count": 42,
      "outputs": [
        {
          "output_type": "stream",
          "text": [
            "4032139\n",
            "Giá trị dự đoán: [[1.09124466]]\n"
          ],
          "name": "stdout"
        }
      ]
    }
  ]
}