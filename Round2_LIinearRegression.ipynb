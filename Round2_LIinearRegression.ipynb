{
  "nbformat": 4,
  "nbformat_minor": 0,
  "metadata": {
    "colab": {
      "name": "Round2:LIinearRegression.ipynb",
      "provenance": [],
      "collapsed_sections": [],
      "mount_file_id": "1mbejlNEdXsnVBrUovjIeJC90RIgeHQkX",
      "authorship_tag": "ABX9TyNLIiZRvcBtfEJ5G02SefgB",
      "include_colab_link": true
    },
    "kernelspec": {
      "name": "python3",
      "display_name": "Python 3"
    }
  },
  "cells": [
    {
      "cell_type": "markdown",
      "metadata": {
        "id": "view-in-github",
        "colab_type": "text"
      },
      "source": [
        "<a href=\"https://colab.research.google.com/github/NguenDuyNhat/CS114.K21/blob/master/Round2_LIinearRegression.ipynb\" target=\"_parent\"><img src=\"https://colab.research.google.com/assets/colab-badge.svg\" alt=\"Open In Colab\"/></a>"
      ]
    },
    {
      "cell_type": "markdown",
      "metadata": {
        "id": "o-ZJDg0Pu9nR",
        "colab_type": "text"
      },
      "source": [
        "Chuyển từ file txt sang csv\n",
        "# Khai báo thư viện pandas"
      ]
    },
    {
      "cell_type": "code",
      "metadata": {
        "id": "neMWN44SsEXx",
        "colab_type": "code",
        "colab": {}
      },
      "source": [
        "import pandas as pd\n",
        "data = pd.read_csv ('/content/drive/My Drive/data2.txt', header = None)\n",
        "data.columns = ['kichthuoc','thoigian']\n",
        "data.to_csv ('/content/drive\\data2.csv', index=None)"
      ],
      "execution_count": 0,
      "outputs": []
    },
    {
      "cell_type": "markdown",
      "metadata": {
        "id": "evWlPNB6vKc0",
        "colab_type": "text"
      },
      "source": [
        "# Chuyển Data về dạng DataFrame"
      ]
    },
    {
      "cell_type": "code",
      "metadata": {
        "id": "YlTz9fH7sF11",
        "colab_type": "code",
        "outputId": "ff44c8fb-e31a-43ec-8302-f01b7f3762c9",
        "colab": {
          "base_uri": "https://localhost:8080/",
          "height": 419
        }
      },
      "source": [
        "data=pd.DataFrame(data)\n",
        "data"
      ],
      "execution_count": 0,
      "outputs": [
        {
          "output_type": "execute_result",
          "data": {
            "text/html": [
              "<div>\n",
              "<style scoped>\n",
              "    .dataframe tbody tr th:only-of-type {\n",
              "        vertical-align: middle;\n",
              "    }\n",
              "\n",
              "    .dataframe tbody tr th {\n",
              "        vertical-align: top;\n",
              "    }\n",
              "\n",
              "    .dataframe thead th {\n",
              "        text-align: right;\n",
              "    }\n",
              "</style>\n",
              "<table border=\"1\" class=\"dataframe\">\n",
              "  <thead>\n",
              "    <tr style=\"text-align: right;\">\n",
              "      <th></th>\n",
              "      <th>kichthuoc</th>\n",
              "      <th>thoigian</th>\n",
              "    </tr>\n",
              "  </thead>\n",
              "  <tbody>\n",
              "    <tr>\n",
              "      <th>0</th>\n",
              "      <td>6083695</td>\n",
              "      <td>0.521842</td>\n",
              "    </tr>\n",
              "    <tr>\n",
              "      <th>1</th>\n",
              "      <td>1954367</td>\n",
              "      <td>0.152648</td>\n",
              "    </tr>\n",
              "    <tr>\n",
              "      <th>2</th>\n",
              "      <td>3734185</td>\n",
              "      <td>0.298548</td>\n",
              "    </tr>\n",
              "    <tr>\n",
              "      <th>3</th>\n",
              "      <td>5839301</td>\n",
              "      <td>0.460480</td>\n",
              "    </tr>\n",
              "    <tr>\n",
              "      <th>4</th>\n",
              "      <td>6343427</td>\n",
              "      <td>0.527977</td>\n",
              "    </tr>\n",
              "    <tr>\n",
              "      <th>...</th>\n",
              "      <td>...</td>\n",
              "      <td>...</td>\n",
              "    </tr>\n",
              "    <tr>\n",
              "      <th>71110</th>\n",
              "      <td>4472112</td>\n",
              "      <td>0.350379</td>\n",
              "    </tr>\n",
              "    <tr>\n",
              "      <th>71111</th>\n",
              "      <td>5471895</td>\n",
              "      <td>0.429955</td>\n",
              "    </tr>\n",
              "    <tr>\n",
              "      <th>71112</th>\n",
              "      <td>9837364</td>\n",
              "      <td>0.801394</td>\n",
              "    </tr>\n",
              "    <tr>\n",
              "      <th>71113</th>\n",
              "      <td>9466593</td>\n",
              "      <td>0.776407</td>\n",
              "    </tr>\n",
              "    <tr>\n",
              "      <th>71114</th>\n",
              "      <td>4080801</td>\n",
              "      <td>0.314468</td>\n",
              "    </tr>\n",
              "  </tbody>\n",
              "</table>\n",
              "<p>71115 rows × 2 columns</p>\n",
              "</div>"
            ],
            "text/plain": [
              "       kichthuoc  thoigian\n",
              "0        6083695  0.521842\n",
              "1        1954367  0.152648\n",
              "2        3734185  0.298548\n",
              "3        5839301  0.460480\n",
              "4        6343427  0.527977\n",
              "...          ...       ...\n",
              "71110    4472112  0.350379\n",
              "71111    5471895  0.429955\n",
              "71112    9837364  0.801394\n",
              "71113    9466593  0.776407\n",
              "71114    4080801  0.314468\n",
              "\n",
              "[71115 rows x 2 columns]"
            ]
          },
          "metadata": {
            "tags": []
          },
          "execution_count": 71
        }
      ]
    },
    {
      "cell_type": "markdown",
      "metadata": {
        "id": "dhUQMJpXvQC9",
        "colab_type": "text"
      },
      "source": [
        "# Khai báo thu viện numpy,matplotlib"
      ]
    },
    {
      "cell_type": "code",
      "metadata": {
        "id": "wwYjTCEkscoC",
        "colab_type": "code",
        "colab": {}
      },
      "source": [
        "import numpy as np\n",
        "import matplotlib.pyplot as plt\n"
      ],
      "execution_count": 0,
      "outputs": []
    },
    {
      "cell_type": "markdown",
      "metadata": {
        "id": "eIdLIF4CvaWC",
        "colab_type": "text"
      },
      "source": [
        "# cột kichthuoc la features engineer"
      ]
    },
    {
      "cell_type": "code",
      "metadata": {
        "id": "o5KLwnbysdlg",
        "colab_type": "code",
        "outputId": "8cb77b42-3540-4172-99b2-ed5a84cda0e1",
        "colab": {
          "base_uri": "https://localhost:8080/",
          "height": 34
        }
      },
      "source": [
        "X=data['kichthuoc']\n",
        "X.shape"
      ],
      "execution_count": 0,
      "outputs": [
        {
          "output_type": "execute_result",
          "data": {
            "text/plain": [
              "(71115,)"
            ]
          },
          "metadata": {
            "tags": []
          },
          "execution_count": 73
        }
      ]
    },
    {
      "cell_type": "code",
      "metadata": {
        "id": "-WkiewDzuZiK",
        "colab_type": "code",
        "outputId": "b997ce8e-f091-4082-a4dd-c8106f3ae774",
        "colab": {
          "base_uri": "https://localhost:8080/",
          "height": 34
        }
      },
      "source": [
        "Y=data['thoigian']\n",
        "Y.shape"
      ],
      "execution_count": 0,
      "outputs": [
        {
          "output_type": "execute_result",
          "data": {
            "text/plain": [
              "(71115,)"
            ]
          },
          "metadata": {
            "tags": []
          },
          "execution_count": 74
        }
      ]
    },
    {
      "cell_type": "markdown",
      "metadata": {
        "id": "475w4L1UvfgL",
        "colab_type": "text"
      },
      "source": [
        "# Vẽ các cặp (X,Y)"
      ]
    },
    {
      "cell_type": "code",
      "metadata": {
        "id": "unEt-MhrucHF",
        "colab_type": "code",
        "outputId": "885bc00e-6222-4c17-8f3a-46549f5e2851",
        "colab": {
          "base_uri": "https://localhost:8080/",
          "height": 278
        }
      },
      "source": [
        "plt.plot(X, Y, 'ro')\n",
        "plt.show()"
      ],
      "execution_count": 0,
      "outputs": [
        {
          "output_type": "display_data",
          "data": {
            "image/png": "[encoded data removed]",
            "text/plain": [
              "<Figure size 432x288 with 1 Axes>"
            ]
          },
          "metadata": {
            "tags": [],
            "needs_background": "light"
          }
        }
      ]
    },
    {
      "cell_type": "markdown",
      "metadata": {
        "id": "ImueVVXXvkLO",
        "colab_type": "text"
      },
      "source": [
        "# CHọn Data : 80% train, 20%test"
      ]
    },
    {
      "cell_type": "code",
      "metadata": {
        "id": "UpT4jcFiud9r",
        "colab_type": "code",
        "colab": {}
      },
      "source": [
        "from sklearn.model_selection import train_test_split \n",
        "Xtrain, Xtest, Ytrain, Ytest = train_test_split(X, Y,test_size=0.2)"
      ],
      "execution_count": 0,
      "outputs": []
    },
    {
      "cell_type": "markdown",
      "metadata": {
        "id": "rgc-WA79vsty",
        "colab_type": "text"
      },
      "source": [
        "# CHọn model là Linear Regression(do data có đường thẳng)"
      ]
    },
    {
      "cell_type": "code",
      "metadata": {
        "id": "KJ9OcQKGuhGv",
        "colab_type": "code",
        "colab": {}
      },
      "source": [
        "from sklearn.linear_model import LinearRegression"
      ],
      "execution_count": 0,
      "outputs": []
    },
    {
      "cell_type": "code",
      "metadata": {
        "id": "MH20R8nJujQ6",
        "colab_type": "code",
        "colab": {}
      },
      "source": [
        "model= LinearRegression()"
      ],
      "execution_count": 0,
      "outputs": []
    },
    {
      "cell_type": "markdown",
      "metadata": {
        "id": "aeG4yYARvxEK",
        "colab_type": "text"
      },
      "source": [
        "# CHuyển Xtest,Xtrain,Ytest,Ytrain"
      ]
    },
    {
      "cell_type": "code",
      "metadata": {
        "id": "-qg-MDbxulV-",
        "colab_type": "code",
        "colab": {}
      },
      "source": [
        "Xtest=pd.DataFrame(Xtest)\n",
        "Xtrain=pd.DataFrame(Xtrain)\n",
        "Ytest=pd.DataFrame(Ytest)\n",
        "Ytrain=pd.DataFrame(Ytrain)"
      ],
      "execution_count": 0,
      "outputs": []
    },
    {
      "cell_type": "markdown",
      "metadata": {
        "id": "J3Se-l6CwEe2",
        "colab_type": "text"
      },
      "source": [
        "# CHo model học dựa trên Xtrain,Ytrain"
      ]
    },
    {
      "cell_type": "code",
      "metadata": {
        "id": "4WdgZHnKum47",
        "colab_type": "code",
        "outputId": "aa543e42-2140-4e8f-ff6b-fe821a027852",
        "colab": {
          "base_uri": "https://localhost:8080/",
          "height": 34
        }
      },
      "source": [
        "model.fit(Xtrain,Ytrain)"
      ],
      "execution_count": 0,
      "outputs": [
        {
          "output_type": "execute_result",
          "data": {
            "text/plain": [
              "LinearRegression(copy_X=True, fit_intercept=True, n_jobs=None, normalize=False)"
            ]
          },
          "metadata": {
            "tags": []
          },
          "execution_count": 80
        }
      ]
    },
    {
      "cell_type": "markdown",
      "metadata": {
        "id": "y7xLry1pwMDI",
        "colab_type": "text"
      },
      "source": [
        "# Dự đoán Ypre dựa trên model.predict(Xtest)"
      ]
    },
    {
      "cell_type": "code",
      "metadata": {
        "id": "-QqN1brEuom4",
        "colab_type": "code",
        "colab": {}
      },
      "source": [
        "Ypre=model.predict(Xtest)"
      ],
      "execution_count": 0,
      "outputs": []
    },
    {
      "cell_type": "markdown",
      "metadata": {
        "id": "6G0netKWwJII",
        "colab_type": "text"
      },
      "source": [
        "# Tính HÀm MSE"
      ]
    },
    {
      "cell_type": "code",
      "metadata": {
        "id": "weZclmSnuqkb",
        "colab_type": "code",
        "outputId": "dee982cc-cb2d-4556-9581-69bbdede40aa",
        "colab": {
          "base_uri": "https://localhost:8080/",
          "height": 34
        }
      },
      "source": [
        "from sklearn.metrics import mean_squared_error\n",
        "mean_squared_error(Ytest,Ypre)"
      ],
      "execution_count": 0,
      "outputs": [
        {
          "output_type": "execute_result",
          "data": {
            "text/plain": [
              "0.00013583310433151554"
            ]
          },
          "metadata": {
            "tags": []
          },
          "execution_count": 82
        }
      ]
    },
    {
      "cell_type": "code",
      "metadata": {
        "id": "qAjL-Rgius7b",
        "colab_type": "code",
        "outputId": "987c4d50-f2c8-4f8b-806f-c9466c28eb82",
        "colab": {
          "base_uri": "https://localhost:8080/",
          "height": 278
        }
      },
      "source": [
        "plt.scatter(Xtest, Ytest)\n",
        "plt.plot(Xtest, Ypre, 'r')\n",
        "plt.show()\n"
      ],
      "execution_count": 0,
      "outputs": [
        {
          "output_type": "display_data",
          "data": {
            "image/png": "[encoded data removed]",
            "text/plain": [
              "<Figure size 432x288 with 1 Axes>"
            ]
          },
          "metadata": {
            "tags": [],
            "needs_background": "light"
          }
        }
      ]
    },
    {
      "cell_type": "markdown",
      "metadata": {
        "id": "9ewyaMOywVmH",
        "colab_type": "text"
      },
      "source": [
        "# Nhập vào giá trị để dự đoán(nếu giá trị âm thì trả về 0, nếu dương thì in ra giá trị dự đoán, do thời gian không thể âm)"
      ]
    },
    {
      "cell_type": "code",
      "metadata": {
        "id": "JwXqukLTuwDo",
        "colab_type": "code",
        "outputId": "1e4df470-c105-45c2-cdcc-6744f33e641a",
        "colab": {
          "base_uri": "https://localhost:8080/",
          "height": 51
        }
      },
      "source": [
        "pre=int(input())\n",
        "pre_model=model.predict([[pre]])\n",
        "print(pre_model)"
      ],
      "execution_count": 0,
      "outputs": [
        {
          "output_type": "stream",
          "text": [
            "6083695\n",
            "[[0.49853562]]\n"
          ],
          "name": "stdout"
        }
      ]
    },
    {
      "cell_type": "markdown",
      "metadata": {
        "id": "iv3WS8nNxdbx",
        "colab_type": "text"
      },
      "source": [
        ""
      ]
    }
  ]
}